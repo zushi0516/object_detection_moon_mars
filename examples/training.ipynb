{
 "cells": [
  {
   "cell_type": "code",
   "execution_count": null,
   "metadata": {},
   "outputs": [],
   "source": [
    "from google.colab import drive\n",
    "drive.mount('/content/gdrive')"
   ]
  },
  {
   "cell_type": "code",
   "execution_count": null,
   "metadata": {
    "colab": {
     "base_uri": "https://localhost:8080/"
    },
    "executionInfo": {
     "elapsed": 324,
     "status": "ok",
     "timestamp": 1672536276128,
     "user": {
      "displayName": "Kazushi ADACHI",
      "userId": "01858856516731809139"
     },
     "user_tz": -540
    },
    "id": "XQBiyvRKpnsx",
    "outputId": "f9461a0c-69ff-4d1e-98da-be1f0693aa21"
   },
   "outputs": [],
   "source": [
    "import os\n",
    "path = '/content/drive/MyDrive/lecture/image_sensing/rockfall/keras-retinanet'\n",
    "\n",
    "#作業ディレクトリをpathに移動する\n",
    "os.chdir(path)"
   ]
  },
  {
   "cell_type": "code",
   "execution_count": null,
   "metadata": {
    "colab": {
     "base_uri": "https://localhost:8080/"
    },
    "executionInfo": {
     "elapsed": 10978,
     "status": "ok",
     "timestamp": 1672536287103,
     "user": {
      "displayName": "Kazushi ADACHI",
      "userId": "01858856516731809139"
     },
     "user_tz": -540
    },
    "id": "9ovSMBVd1Ekw",
    "outputId": "f35ca99e-5ca4-47df-a24a-c9be0b593ce8"
   },
   "outputs": [],
   "source": [
    "!pip install -r requirements.txt"
   ]
  },
  {
   "cell_type": "code",
   "execution_count": null,
   "metadata": {},
   "outputs": [],
   "source": [
    "cd keras-retinanet"
   ]
  },
  {
   "cell_type": "code",
   "execution_count": null,
   "metadata": {
    "colab": {
     "base_uri": "https://localhost:8080/"
    },
    "executionInfo": {
     "elapsed": 1430,
     "status": "ok",
     "timestamp": 1672536288527,
     "user": {
      "displayName": "Kazushi ADACHI",
      "userId": "01858856516731809139"
     },
     "user_tz": -540
    },
    "id": "V9OZ39vd2qD4",
    "outputId": "d36837fa-3b4a-4e2b-f1a4-34b44320d8c6"
   },
   "outputs": [],
   "source": [
    "!python setup.py build_ext --inplace"
   ]
  },
  {
   "cell_type": "code",
   "execution_count": null,
   "metadata": {
    "colab": {
     "base_uri": "https://localhost:8080/"
    },
    "executionInfo": {
     "elapsed": 489,
     "status": "ok",
     "timestamp": 1672539388484,
     "user": {
      "displayName": "Kazushi ADACHI",
      "userId": "01858856516731809139"
     },
     "user_tz": -540
    },
    "id": "PpxZ75ciB03A",
    "outputId": "63e24c60-4664-4f82-8afc-ca1b680bf640"
   },
   "outputs": [],
   "source": [
    "# show images inline\n",
    "%matplotlib inline\n",
    "\n",
    "# automatically reload modules when they have changed\n",
    "%load_ext autoreload\n",
    "%autoreload 2\n",
    "\n",
    "# import keras\n",
    "import tensorflow\n",
    "from tensorflow import keras\n",
    "\n",
    "import sys\n",
    "sys.path.append('C:/Users/adachi/Desktop/adachi/stable_diffusion_esrgan_mubert/.venv/Lib/site-packages')\n",
    "import cv2\n",
    "\n",
    "# import keras_retinanet\n",
    "from keras_retinanet import models\n",
    "from keras_retinanet.utils.image import read_image_bgr, preprocess_image, resize_image\n",
    "from keras_retinanet.utils.visualization import draw_box, draw_caption\n",
    "from keras_retinanet.utils.colors import label_color\n",
    "from keras_retinanet.utils.gpu import setup_gpu\n",
    "\n",
    "# import miscellaneous modules\n",
    "import matplotlib.pyplot as plt\n",
    "import os\n",
    "import numpy as np\n",
    "import pandas as pd\n",
    "import time\n",
    "import math"
   ]
  },
  {
   "cell_type": "code",
   "execution_count": null,
   "metadata": {
    "scrolled": true,
    "tags": []
   },
   "outputs": [],
   "source": [
    "# !pip install tensorflow==2.9.2\n",
    "# !pip install matplotlib\n",
    "# !pip install keras_tqdm"
   ]
  },
  {
   "cell_type": "markdown",
   "metadata": {},
   "source": [
    "### Function for visualization"
   ]
  },
  {
   "cell_type": "code",
   "execution_count": null,
   "metadata": {},
   "outputs": [],
   "source": [
    "#function for visualization\n",
    "def vis_bb(model,df_label,path,img_path,score_threshold):\n",
    "    image = read_image_bgr(path + img_path)\n",
    "\n",
    "    # copy to draw on\n",
    "    draw = image.copy()\n",
    "    grays = cv2.cvtColor(draw, cv2.COLOR_RGB2GRAY)\n",
    "    draw   = cv2.cvtColor(grays, cv2.COLOR_GRAY2RGB)\n",
    "\n",
    "    # preprocess image for network\n",
    "    image = preprocess_image(image)\n",
    "    image, scale = resize_image(image)\n",
    "    labels = ['rockfall']\n",
    "    labels_to_names = {0: 'rockfall'}\n",
    "\n",
    "    # process image\n",
    "    start = time.time()\n",
    "    boxes, scores, labels = model.predict_on_batch(np.expand_dims(image, axis=0))\n",
    "    print(\"processing time: \", time.time() - start)\n",
    "\n",
    "    # correct for image scale\n",
    "    boxes /= scale\n",
    "\n",
    "    # visualize detections\n",
    "    for box, score, label in zip(boxes[0], scores[0], labels[0]):\n",
    "        # scores are sorted so we can break\n",
    "        if score < score_threshold:\n",
    "            break\n",
    "\n",
    "        color = label_color(label)\n",
    "\n",
    "        b = box.astype(int)\n",
    "        draw_box(draw, b, color=color)\n",
    "\n",
    "        caption = \"{} {:.3f}\".format(labels_to_names[label], score)\n",
    "        draw_caption(draw, b, caption,1.5,2)\n",
    "\n",
    "    #draw true bbox\n",
    "    box_list = df_label[df_label['img_path'] == img_path].iloc[:,1:5].values\n",
    "    for box in box_list:\n",
    "        if math.isnan(box_list[0][0]) != True:\n",
    "            b = box.astype(int)\n",
    "            draw_box(draw, b, color=[255 , 0   , 0])\n",
    "            caption = \"Ground Truth\"\n",
    "            draw_caption(draw, b, caption,1.5,2)\n",
    "\n",
    "    plt.figure(figsize=(10, 10))\n",
    "    plt.axis('off')\n",
    "    plt.imshow(draw)\n",
    "    plt.show()"
   ]
  },
  {
   "cell_type": "markdown",
   "metadata": {},
   "source": [
    "### Training"
   ]
  },
  {
   "cell_type": "code",
   "execution_count": null,
   "metadata": {
    "scrolled": true,
    "tags": []
   },
   "outputs": [],
   "source": [
    "!python keras_retinanet/bin/train.py csv dataset/moon_mars/train_labels/train_labels_mix.csv dataset/moon_mars/train_labels/train_classes_mix.csv  "
   ]
  },
  {
   "cell_type": "markdown",
   "metadata": {},
   "source": [
    "### Evaluation"
   ]
  },
  {
   "cell_type": "code",
   "execution_count": null,
   "metadata": {
    "scrolled": true,
    "tags": []
   },
   "outputs": [],
   "source": [
    "# adjust this to point to your downloaded/trained model\n",
    "# models can be downloaded here: https://github.com/fizyr/keras-retinanet/releases\n",
    "model_path = 'model_best/moon_mars/resnet50_csv_100.h5'\n",
    "\n",
    "# load retinanet model\n",
    "model = models.load_model(model_path, backbone_name='resnet50')\n",
    "\n",
    "# if the model is not converted to an inference model, use the line below\n",
    "# see: https://github.com/fizyr/keras-retinanet#converting-a-training-model-to-inference-model\n",
    "model = models.convert_model(model)\n",
    "\n",
    "# load label to names mapping for visualization purposes\n",
    "labels_to_names = {0: 'rockfall'}\n",
    "\n",
    "df_label = pd.read_csv('dataset/moon_mars/test_labels/test_labels_mix.csv',names=('img_path', 'x1','y1','x2','y2','class_name'))\n",
    "\n",
    "img_name_list = df_label['img_path'].unique()\n",
    "for img_name in img_name_list:\n",
    "  if math.isnan(df_label[df_label['img_path'] == img_name].iloc[:,1].values[0]) != True:\n",
    "    df = df_label[df_label['img_path'] == img_name].iloc[:,1:5]\n",
    "    df.insert(0, 'label', 'rockfall')\n",
    "    name = img_name.replace('/','_')\n",
    "    df.to_csv(\"pascalvoc_metrics/moon_mars/groundtruths/\" + name+ \".txt\", sep='\\t', index=False,header=False)\n",
    "    \n",
    "process_time_list = []    \n",
    "# load image\n",
    "path = 'dataset/moon_mars/'\n",
    "\n",
    "img_name_list = df_label['img_path'].unique()\n",
    "for img_name in img_name_list:\n",
    "  if math.isnan(df_label[df_label['img_path'] == img_name].iloc[:,1].values[0]) != True:\n",
    "\n",
    "    image = read_image_bgr(path + img_name)\n",
    "\n",
    "    # preprocess image for network\n",
    "    image = preprocess_image(image)\n",
    "    image, scale = resize_image(image)\n",
    "\n",
    "    # process image\n",
    "    start = time.time()\n",
    "    boxes, scores, labels = model.predict_on_batch(np.expand_dims(image, axis=0))\n",
    "   \n",
    "    process_time = time.time() - start\n",
    "    process_time_list.append(process_time)\n",
    "    \n",
    "    print(\"processing time: \", time.time() - start)\n",
    "\n",
    "    # correct for image scale\n",
    "    boxes /= scale\n",
    "    df_pred = pd.DataFrame(boxes[0],columns = ('x1','y1','x2','y2'))\n",
    "    df_pred.insert(0, 'label', 'rockfall')\n",
    "    df_pred.insert(1, 'score', scores.T)\n",
    "    df = df_pred[df_pred['score'] > 0]\n",
    "    name = img_name.replace('/','_')\n",
    "    df.to_csv(\"pascalvoc_metrics/moon_mars/detections/\" + name+ \".txt\", sep='\\t', index=False,header=False)\n",
    "    \n",
    "process_time_array = np.array(process_time_list)\n",
    "process_time_array = process_time_array[process_time_array < 1]\n",
    "process_time_array.mean()    \n",
    "\n",
    "threshold_list = [0.1,0.25,0.5,0.75]\n",
    "for threshold in threshold_list:\n",
    "    dir = 'pascalvoc_metrics/moon_mars/iou_'+str(threshold)\n",
    "    if not(os.path.exists(dir)):\n",
    "        os.mkdir(dir)\n",
    "    !python pascalvoc_metrics/pascalvoc_metrics.py \\\n",
    "      --gt_dir pascalvoc_metrics/moon_mars/groundtruths \\\n",
    "      --gt_format xyrb \\\n",
    "      --det_dir pascalvoc_metrics/moon_mars/detections \\\n",
    "      --det_format xyrb \\\n",
    "      --iou $threshold \\\n",
    "      --output $dir\n",
    "\n",
    "    df = pd.read_csv(dir + '/score_recall_precision.csv')\n",
    "    ct_list = [0.2,0.3,0.4,0.5,0.6,0.7,0.8,0.9,0.99]\n",
    "    recall_list = []\n",
    "    precision_list = []\n",
    "    f1_list = []\n",
    "    for ct in ct_list:    \n",
    "        recall = df[df['Score'] > ct].iloc[0,1]\n",
    "        precision = df[df['Score'] > ct].iloc[0,2]\n",
    "        f1 = (2 * recall * precision) / (recall + precision)\n",
    "        recall_list.append(recall)\n",
    "        precision_list.append(precision)\n",
    "        f1_list.append(f1)\n",
    "    mylist = list(zip(ct_list,recall_list,precision_list,f1_list))\n",
    "    df_metrics = pd.DataFrame(mylist,columns = ['ct','recall','precision','f1'])\n",
    "    df_metrics['process_time'] = process_time_array.mean()\n",
    "    df_metrics.to_csv(dir + '/result.csv',index = False)"
   ]
  },
  {
   "cell_type": "markdown",
   "metadata": {},
   "source": [
    "### Measure the processing time"
   ]
  },
  {
   "cell_type": "code",
   "execution_count": null,
   "metadata": {},
   "outputs": [],
   "source": [
    "import time\n",
    "process_time_list = []\n",
    "start = time.time()\n",
    "# load image\n",
    "path = 'dataset/moon_mars/'\n",
    "\n",
    "img_name_list = df_label['img_path'].unique()\n",
    "for img_name in img_name_list:\n",
    "  if math.isnan(df_label[df_label['img_path'] == img_name].iloc[:,1].values[0]) != True:\n",
    "\n",
    "    image = read_image_bgr(path + img_name)\n",
    "\n",
    "    # preprocess image for network\n",
    "    image = preprocess_image(image)\n",
    "    image, scale = resize_image(image)\n",
    "\n",
    "    # process image\n",
    "    start = time.time()\n",
    "    boxes, scores, labels = model.predict_on_batch(np.expand_dims(image, axis=0))\n",
    "    process_time = time.time() - start\n",
    "\n",
    "    process_time_list.append(process_time)\n",
    "process_time_array = np.array(process_time_list)\n",
    "process_time_array.mean()"
   ]
  },
  {
   "cell_type": "markdown",
   "metadata": {},
   "source": [
    "### Visualization"
   ]
  },
  {
   "cell_type": "code",
   "execution_count": null,
   "metadata": {
    "scrolled": true,
    "tags": []
   },
   "outputs": [],
   "source": [
    "img_name_list = df_label['img_path'].unique()\n",
    "path = 'dataset/moon_mars/'\n",
    "for img_path in img_name_list:\n",
    "    vis_bb(model,df_label,path,img_path,0.2)"
   ]
  }
 ],
 "metadata": {
  "accelerator": "GPU",
  "colab": {
   "authorship_tag": "ABX9TyNv9IFJtVFBwiMw/4hxskHl",
   "provenance": []
  },
  "gpuClass": "standard",
  "kernelspec": {
   "display_name": ".venv",
   "language": "python",
   "name": ".venv"
  },
  "language_info": {
   "codemirror_mode": {
    "name": "ipython",
    "version": 3
   },
   "file_extension": ".py",
   "mimetype": "text/x-python",
   "name": "python",
   "nbconvert_exporter": "python",
   "pygments_lexer": "ipython3",
   "version": "3.10.0"
  }
 },
 "nbformat": 4,
 "nbformat_minor": 4
}
