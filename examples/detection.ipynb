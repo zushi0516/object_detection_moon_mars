{
 "cells": [
  {
   "cell_type": "code",
   "execution_count": null,
   "metadata": {},
   "outputs": [],
   "source": [
    "from google.colab import drive\n",
    "drive.mount('/content/gdrive')"
   ]
  },
  {
   "cell_type": "code",
   "execution_count": null,
   "metadata": {},
   "outputs": [],
   "source": [
    "import os\n",
    "path = '/content/gdrive/MyDrive/keras_retinanet'\n",
    "\n",
    "#作業ディレクトリをpathに移動する\n",
    "os.chdir(path)"
   ]
  },
  {
   "cell_type": "code",
   "execution_count": null,
   "metadata": {
    "colab": {
     "base_uri": "https://localhost:8080/"
    },
    "executionInfo": {
     "elapsed": 6178,
     "status": "ok",
     "timestamp": 1672724800801,
     "user": {
      "displayName": "Kazushi ADACHI",
      "userId": "01858856516731809139"
     },
     "user_tz": -540
    },
    "id": "bc4ZrfQ8Kscs",
    "outputId": "c7f22085-45e4-4ec5-9966-4c261430b3a6"
   },
   "outputs": [],
   "source": [
    "!pip install keras-resnet"
   ]
  },
  {
   "cell_type": "code",
   "execution_count": null,
   "metadata": {
    "colab": {
     "base_uri": "https://localhost:8080/"
    },
    "executionInfo": {
     "elapsed": 4587,
     "status": "ok",
     "timestamp": 1672724680760,
     "user": {
      "displayName": "Kazushi ADACHI",
      "userId": "01858856516731809139"
     },
     "user_tz": -540
    },
    "id": "oWruAcVpIlQe",
    "outputId": "e690da81-1108-4d33-ad20-f785542accab"
   },
   "outputs": [],
   "source": [
    "# show images inline\n",
    "%matplotlib inline\n",
    "\n",
    "# automatically reload modules when they have changed\n",
    "%load_ext autoreload\n",
    "%autoreload 2\n",
    "\n",
    "# import keras\n",
    "from tensorflow import keras\n",
    "\n",
    "# import keras_retinanet\n",
    "from keras_retinanet import models\n",
    "from keras_retinanet.utils.image import read_image_bgr, preprocess_image, resize_image\n",
    "from keras_retinanet.utils.visualization import draw_box, draw_caption\n",
    "from keras_retinanet.utils.colors import label_color\n",
    "from keras_retinanet.utils.gpu import setup_gpu\n",
    "\n",
    "# import miscellaneous modules\n",
    "import matplotlib.pyplot as plt\n",
    "import cv2\n",
    "import os\n",
    "import numpy as np\n",
    "import pandas as pd\n",
    "import time\n",
    "import math"
   ]
  },
  {
   "cell_type": "code",
   "execution_count": null,
   "metadata": {
    "executionInfo": {
     "elapsed": 19893,
     "status": "ok",
     "timestamp": 1672724857884,
     "user": {
      "displayName": "Kazushi ADACHI",
      "userId": "01858856516731809139"
     },
     "user_tz": -540
    },
    "id": "gkjNkYlHIlu3"
   },
   "outputs": [],
   "source": [
    "# adjust this to point to your downloaded/trained model\n",
    "# models can be downloaded here: https://github.com/fizyr/keras-retinanet/releases\n",
    "model_path = 'keras_retinanet/model/resnet50_csv_100.h5'\n",
    "\n",
    "# load retinanet model\n",
    "model = models.load_model(model_path, backbone_name='resnet50')\n",
    "\n",
    "# if the model is not converted to an inference model, use the line below\n",
    "# see: https://github.com/fizyr/keras-retinanet#converting-a-training-model-to-inference-model\n",
    "model = models.convert_model(model)"
   ]
  },
  {
   "cell_type": "code",
   "execution_count": null,
   "metadata": {
    "colab": {
     "base_uri": "https://localhost:8080/",
     "height": 864
    },
    "executionInfo": {
     "elapsed": 9986,
     "status": "ok",
     "timestamp": 1672725038594,
     "user": {
      "displayName": "Kazushi ADACHI",
      "userId": "01858856516731809139"
     },
     "user_tz": -540
    },
    "id": "aPmRzwEJKnxk",
    "outputId": "3ebcd16b-d3e2-450b-af99-7da940102d31"
   },
   "outputs": [],
   "source": [
    "# load image\n",
    "path = 'keras_retinanet/images/'\n",
    "img_name = '20221129-00010000-sorae_jp-001-1-view.jpg'\n",
    "image = read_image_bgr(path +img_name)\n",
    "\n",
    "# copy to draw on\n",
    "draw = image.copy()\n",
    "grays = cv2.cvtColor(draw, cv2.COLOR_RGB2GRAY)\n",
    "draw   = cv2.cvtColor(grays, cv2.COLOR_GRAY2RGB)\n",
    "\n",
    "# preprocess image for network\n",
    "image = preprocess_image(image)\n",
    "image, scale = resize_image(image)\n",
    "\n",
    "labels = ['rockfall']\n",
    "\n",
    "# process image\n",
    "start = time.time()\n",
    "boxes, scores, labels = model.predict_on_batch(np.expand_dims(image, axis=0))\n",
    "print(\"processing time: \", time.time() - start)\n",
    "\n",
    "# correct for image scale\n",
    "boxes /= scale\n",
    "\n",
    "# visualize detections\n",
    "for box, score, label in zip(boxes[0], scores[0], labels[0]):\n",
    "    # scores are sorted so we can break\n",
    "    if score < 0.5:\n",
    "        break\n",
    "        \n",
    "    color = label_color(label)\n",
    "    \n",
    "    b = box.astype(int)\n",
    "    draw_box(draw, b, color=color)\n",
    "    \n",
    "    caption = \"{} {:.3f}\".format(\"crater\", score)\n",
    "    draw_caption(draw, b, caption,1.5,2)\n",
    "\n",
    "plt.figure(figsize=(15, 15))\n",
    "plt.axis('off')\n",
    "plt.imshow(draw)\n",
    "plt.savefig(path + 'equ_crater_pred_50.jpg', bbox_inches='tight',pad_inches = 0)\n",
    "plt.show()"
   ]
  },
  {
   "cell_type": "code",
   "execution_count": null,
   "metadata": {
    "id": "hr49AYpsLQLJ"
   },
   "outputs": [],
   "source": []
  }
 ],
 "metadata": {
  "colab": {
   "authorship_tag": "ABX9TyMWi8Qxf3Do77B4v3cytvEz",
   "provenance": []
  },
  "kernelspec": {
   "display_name": "Python 3 (ipykernel)",
   "language": "python",
   "name": "python3"
  },
  "language_info": {
   "codemirror_mode": {
    "name": "ipython",
    "version": 3
   },
   "file_extension": ".py",
   "mimetype": "text/x-python",
   "name": "python",
   "nbconvert_exporter": "python",
   "pygments_lexer": "ipython3",
   "version": "3.10.0"
  }
 },
 "nbformat": 4,
 "nbformat_minor": 4
}
